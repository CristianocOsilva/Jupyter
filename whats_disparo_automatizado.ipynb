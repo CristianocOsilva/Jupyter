{
 "cells": [
  {
   "cell_type": "code",
   "execution_count": 14,
   "metadata": {},
   "outputs": [
    {
     "data": {
      "text/html": [
       "<div>\n",
       "<style scoped>\n",
       "    .dataframe tbody tr th:only-of-type {\n",
       "        vertical-align: middle;\n",
       "    }\n",
       "\n",
       "    .dataframe tbody tr th {\n",
       "        vertical-align: top;\n",
       "    }\n",
       "\n",
       "    .dataframe thead th {\n",
       "        text-align: right;\n",
       "    }\n",
       "</style>\n",
       "<table border=\"1\" class=\"dataframe\">\n",
       "  <thead>\n",
       "    <tr style=\"text-align: right;\">\n",
       "      <th></th>\n",
       "      <th>Pessoa</th>\n",
       "      <th>Número</th>\n",
       "      <th>Mensagem</th>\n",
       "    </tr>\n",
       "  </thead>\n",
       "  <tbody>\n",
       "    <tr>\n",
       "      <th>0</th>\n",
       "      <td>Leonardo</td>\n",
       "      <td>5519993093499</td>\n",
       "      <td>&lt;&lt;envio de mensagem automatizada no whats&gt;&gt;</td>\n",
       "    </tr>\n",
       "  </tbody>\n",
       "</table>\n",
       "</div>"
      ],
      "text/plain": [
       "     Pessoa         Número                                     Mensagem\n",
       "0  Leonardo  5519993093499  <<envio de mensagem automatizada no whats>>"
      ]
     },
     "metadata": {},
     "output_type": "display_data"
    }
   ],
   "source": [
    "import pandas as pd\n",
    "\n",
    "contatos_df = pd.read_excel(\"whats_contatos.xlsx\")\n",
    "display(contatos_df)"
   ]
  },
  {
   "cell_type": "code",
   "execution_count": 15,
   "metadata": {},
   "outputs": [
    {
     "name": "stderr",
     "output_type": "stream",
     "text": [
      "<ipython-input-15-fccf4a25901e>:6: DeprecationWarning: executable_path has been deprecated, please pass in a Service object\n",
      "  navegador = webdriver.Edge(executable_path=\"C:\\\\Users\\\\crist\\\\Downloads\\\\edgedriver_win64\\\\msedgedriver.exe\")\n",
      "C:\\Users\\crist\\anaconda3\\lib\\site-packages\\selenium\\webdriver\\remote\\webdriver.py:431: UserWarning: find_elements_by_* commands are deprecated. Please use find_elements() instead\n",
      "  warnings.warn(\"find_elements_by_* commands are deprecated. Please use find_elements() instead\")\n",
      "C:\\Users\\crist\\anaconda3\\lib\\site-packages\\selenium\\webdriver\\remote\\webdriver.py:452: UserWarning: find_element_by_* commands are deprecated. Please use find_element() instead\n",
      "  warnings.warn(\"find_element_by_* commands are deprecated. Please use find_element() instead\")\n"
     ]
    }
   ],
   "source": [
    "from selenium import webdriver\n",
    "from selenium.webdriver.common.keys import Keys\n",
    "import time\n",
    "import urllib\n",
    "\n",
    "navegador = webdriver.Edge(executable_path=\"C:\\\\Users\\\\crist\\\\Downloads\\\\edgedriver_win64\\\\msedgedriver.exe\")\n",
    "navegador.get(\"https://web.whatsapp.com\")\n",
    "\n",
    "while len(navegador.find_elements_by_id(\"side\")) < 1:\n",
    "    time.sleep(1)\n",
    "\n",
    "# já estamos com o login feito no whatsapp web\n",
    "for i, mensagem in enumerate(contatos_df['Mensagem']):\n",
    "    pessoa = contatos_df.loc[i, \"Pessoa\"]\n",
    "    numero = contatos_df.loc[i, \"Número\"]\n",
    "    texto = urllib.parse.quote(f\"Olá, é só um teste {pessoa}! {mensagem}\")\n",
    "    link = f\"https://web.whatsapp.com/send?phone={numero}&text={texto}\"\n",
    "    navegador.get(link)\n",
    "    while len(navegador.find_elements_by_id(\"side\")) < 1:\n",
    "        time.sleep(1)\n",
    "    navegador.find_element_by_xpath('//*[@id=\"main\"]/footer/div[1]/div[2]/div/div[2]').send_keys(Keys.ENTER)\n",
    "    time.sleep(10)\n",
    "        \n"
   ]
  },
  {
   "cell_type": "code",
   "execution_count": null,
   "metadata": {},
   "outputs": [],
   "source": []
  },
  {
   "cell_type": "code",
   "execution_count": null,
   "metadata": {},
   "outputs": [],
   "source": []
  }
 ],
 "metadata": {
  "kernelspec": {
   "display_name": "Python 3",
   "language": "python",
   "name": "python3"
  },
  "language_info": {
   "codemirror_mode": {
    "name": "ipython",
    "version": 3
   },
   "file_extension": ".py",
   "mimetype": "text/x-python",
   "name": "python",
   "nbconvert_exporter": "python",
   "pygments_lexer": "ipython3",
   "version": "3.8.5"
  }
 },
 "nbformat": 4,
 "nbformat_minor": 4
}
