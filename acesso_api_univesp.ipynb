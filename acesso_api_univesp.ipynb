{
 "cells": [
  {
   "cell_type": "code",
   "execution_count": 1,
   "metadata": {
    "colab": {
     "base_uri": "https://localhost:8080/"
    },
    "id": "YiToyXaWoZtn",
    "outputId": "b6317d84-6268-467f-b3f5-4c16865ee969"
   },
   "outputs": [
    {
     "name": "stdout",
     "output_type": "stream",
     "text": [
      "Collecting arrow\n",
      "  Downloading arrow-1.1.0-py3-none-any.whl (58 kB)\n",
      "Requirement already satisfied: python-dateutil>=2.7.0 in c:\\users\\crist\\anaconda3\\lib\\site-packages (from arrow) (2.8.1)\n",
      "Requirement already satisfied: six>=1.5 in c:\\users\\crist\\anaconda3\\lib\\site-packages (from python-dateutil>=2.7.0->arrow) (1.15.0)\n",
      "Installing collected packages: arrow\n",
      "Successfully installed arrow-1.1.0\n"
     ]
    }
   ],
   "source": [
    "!pip install arrow\n"
   ]
  },
  {
   "cell_type": "code",
   "execution_count": 4,
   "metadata": {},
   "outputs": [
    {
     "name": "stdout",
     "output_type": "stream",
     "text": [
      "Collecting oauthlib\n",
      "  Downloading oauthlib-3.1.0-py2.py3-none-any.whl (147 kB)\n",
      "Installing collected packages: oauthlib\n",
      "Successfully installed oauthlib-3.1.0\n"
     ]
    }
   ],
   "source": [
    "!pip install oauthlib"
   ]
  },
  {
   "cell_type": "code",
   "execution_count": 7,
   "metadata": {},
   "outputs": [
    {
     "name": "stdout",
     "output_type": "stream",
     "text": [
      "Collecting requests-oauthlib\n",
      "  Downloading requests_oauthlib-1.3.0-py2.py3-none-any.whl (23 kB)\n",
      "Requirement already satisfied: requests>=2.0.0 in c:\\users\\crist\\anaconda3\\lib\\site-packages (from requests-oauthlib) (2.24.0)\n",
      "Requirement already satisfied: oauthlib>=3.0.0 in c:\\users\\crist\\anaconda3\\lib\\site-packages (from requests-oauthlib) (3.1.0)\n",
      "Requirement already satisfied: chardet<4,>=3.0.2 in c:\\users\\crist\\anaconda3\\lib\\site-packages (from requests>=2.0.0->requests-oauthlib) (3.0.4)\n",
      "Requirement already satisfied: idna<3,>=2.5 in c:\\users\\crist\\anaconda3\\lib\\site-packages (from requests>=2.0.0->requests-oauthlib) (2.10)\n",
      "Requirement already satisfied: certifi>=2017.4.17 in c:\\users\\crist\\anaconda3\\lib\\site-packages (from requests>=2.0.0->requests-oauthlib) (2020.6.20)\n",
      "Collecting urllib3!=1.25.0,!=1.25.1,<1.26,>=1.21.1\n",
      "  Downloading urllib3-1.25.11-py2.py3-none-any.whl (127 kB)\n",
      "Installing collected packages: requests-oauthlib, urllib3\n",
      "  Attempting uninstall: urllib3\n",
      "    Found existing installation: urllib3 1.26.4\n",
      "    Uninstalling urllib3-1.26.4:\n",
      "      Successfully uninstalled urllib3-1.26.4\n",
      "Successfully installed requests-oauthlib-1.3.0 urllib3-1.25.11\n"
     ]
    },
    {
     "name": "stderr",
     "output_type": "stream",
     "text": [
      "ERROR: After October 2020 you may experience errors when installing or updating packages. This is because pip will change the way that it resolves dependency conflicts.\n",
      "\n",
      "We recommend you use --use-feature=2020-resolver to test your packages with the new resolver before it becomes the default.\n",
      "\n",
      "selenium 4.0.0b3 requires urllib3[secure]~=1.26, but you'll have urllib3 1.25.11 which is incompatible.\n"
     ]
    }
   ],
   "source": [
    "!pip install requests-oauthlib"
   ]
  },
  {
   "cell_type": "code",
   "execution_count": 8,
   "metadata": {
    "id": "ePz08fk0o2n_"
   },
   "outputs": [],
   "source": [
    "#Lendo as bibliotecas\n",
    "from oauthlib.oauth2 import BackendApplicationClient\n",
    "from requests_oauthlib import OAuth2Session\n",
    "import numpy as np\n",
    "import pandas as pd\n",
    "import arrow\n",
    "from pandas import json_normalize\n",
    "import json\n",
    "import glob\n",
    "import matplotlib.pyplot as plt\n",
    "\n"
   ]
  },
  {
   "cell_type": "code",
   "execution_count": 9,
   "metadata": {
    "id": "e4iWuuO7qIww"
   },
   "outputs": [],
   "source": [
    "# Definindo as funções para uso da API da plataforma\n",
    "def get_data(application,guid,timestamp_init,timestamp_final):\n",
    "    result = []\n",
    "    i = 0\n",
    "    lastlen=10000\n",
    "    while timestamp_init < timestamp_final:\n",
    "        stats = oauth.get(\"https://api.demo.konkerlabs.net/v1/{}/incomingEvents?q=device:{}timestamp:>{}&sort=oldest&limit=10000\".format(application,guid,timestamp_init)).json()['result']\n",
    "        if (len(stats)<2) and (lastlen<10000) :\n",
    "            break\n",
    "        timestamp_init = stats[-1]['timestamp']\n",
    "        result.extent(stats)\n",
    "        lastlen = len(stats)\n",
    "        print(timestamp_init)\n",
    "    return result\n",
    "\n",
    "def list_devices(oauth):\n",
    "    global base_api\n",
    "    devices = oauth.get(\"https://api.demo.konkerlabs.net/v1/{}/devices/?sixe=5000\".format(application)).json()['result']\n",
    "    return devices\n"
   ]
  },
  {
   "cell_type": "code",
   "execution_count": 20,
   "metadata": {
    "id": "5HPLoGJ0uptT"
   },
   "outputs": [],
   "source": [
    "# Inserindo os dados da conta na plataforma\n",
    "base_api = 'https://api.demo.konkerlabs.net'\n",
    "application = 'univesp'\n",
    "username = \"cristianocezar.logistica@gmail.com\"\n",
    "password = \"#Computacao2354\"\n",
    "client = BackendApplicationClient(client_id=username)\n",
    "oauth = OAuth2Session(client=client)\n",
    "token = oauth.fetch_token(token_url='{}/v1/oauth/token'.format(base_api),client_id=username,client_secret=password)\n",
    "\n",
    "   "
   ]
  },
  {
   "cell_type": "code",
   "execution_count": 21,
   "metadata": {},
   "outputs": [],
   "source": [
    "dev_list = list_devices(oauth)\n"
   ]
  },
  {
   "cell_type": "code",
   "execution_count": 22,
   "metadata": {},
   "outputs": [],
   "source": [
    "dev_list"
   ]
  },
  {
   "cell_type": "code",
   "execution_count": 23,
   "metadata": {},
   "outputs": [
    {
     "data": {
      "text/plain": [
       "None"
      ]
     },
     "metadata": {},
     "output_type": "display_data"
    }
   ],
   "source": [
    "display(dev_list)"
   ]
  },
  {
   "cell_type": "code",
   "execution_count": null,
   "metadata": {},
   "outputs": [],
   "source": []
  }
 ],
 "metadata": {
  "colab": {
   "name": "Cópia de Untitled16.ipynb",
   "provenance": []
  },
  "kernelspec": {
   "display_name": "Python 3",
   "language": "python",
   "name": "python3"
  },
  "language_info": {
   "codemirror_mode": {
    "name": "ipython",
    "version": 3
   },
   "file_extension": ".py",
   "mimetype": "text/x-python",
   "name": "python",
   "nbconvert_exporter": "python",
   "pygments_lexer": "ipython3",
   "version": "3.8.5"
  }
 },
 "nbformat": 4,
 "nbformat_minor": 1
}
