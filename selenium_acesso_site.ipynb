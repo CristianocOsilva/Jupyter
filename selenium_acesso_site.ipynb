{
 "cells": [
  {
   "cell_type": "code",
   "execution_count": 4,
   "metadata": {},
   "outputs": [
    {
     "name": "stderr",
     "output_type": "stream",
     "text": [
      "<ipython-input-4-6ad28cdaf8bd>:3: DeprecationWarning: executable_path has been deprecated, please pass in a Service object\n",
      "  driver = webdriver.Edge(executable_path=\"C:\\\\Users\\\\crist\\\\Downloads\\\\edgedriver_win64\\\\msedgedriver.exe\")\n"
     ]
    },
    {
     "name": "stdout",
     "output_type": "stream",
     "text": [
      "<class 'selenium.webdriver.edge.webdriver.WebDriver'>\n",
      "Google\n"
     ]
    }
   ],
   "source": [
    "from selenium import webdriver\n",
    "\n",
    "driver = webdriver.Edge(executable_path=\"C:\\\\Users\\\\crist\\\\Downloads\\\\edgedriver_win64\\\\msedgedriver.exe\")\n",
    "print(type(driver))\n",
    "driver.get(\"http://www.google.com\")\n",
    "myPageTitle=driver.title\n",
    "print(myPageTitle)\n",
    "assert \"Google\" in myPageTitle\n",
    "#print(driver.quit)\n",
    "driver.quit()"
   ]
  },
  {
   "cell_type": "code",
   "execution_count": null,
   "metadata": {},
   "outputs": [],
   "source": []
  }
 ],
 "metadata": {
  "kernelspec": {
   "display_name": "Python 3",
   "language": "python",
   "name": "python3"
  },
  "language_info": {
   "codemirror_mode": {
    "name": "ipython",
    "version": 3
   },
   "file_extension": ".py",
   "mimetype": "text/x-python",
   "name": "python",
   "nbconvert_exporter": "python",
   "pygments_lexer": "ipython3",
   "version": "3.8.5"
  }
 },
 "nbformat": 4,
 "nbformat_minor": 4
}
