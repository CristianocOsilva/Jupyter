{
 "cells": [
  {
   "cell_type": "code",
   "execution_count": 1,
   "metadata": {},
   "outputs": [
    {
     "ename": "ModuleNotFoundError",
     "evalue": "No module named 'oauthlib'",
     "output_type": "error",
     "traceback": [
      "\u001b[1;31m---------------------------------------------------------------------------\u001b[0m",
      "\u001b[1;31mModuleNotFoundError\u001b[0m                       Traceback (most recent call last)",
      "\u001b[1;32m<ipython-input-1-dca043e7abe4>\u001b[0m in \u001b[0;36m<module>\u001b[1;34m\u001b[0m\n\u001b[0;32m      1\u001b[0m \u001b[1;31m#Lendo as bibliotecas\u001b[0m\u001b[1;33m\u001b[0m\u001b[1;33m\u001b[0m\u001b[1;33m\u001b[0m\u001b[0m\n\u001b[1;32m----> 2\u001b[1;33m \u001b[1;32mfrom\u001b[0m \u001b[0moauthlib\u001b[0m\u001b[1;33m.\u001b[0m\u001b[0moauth2\u001b[0m \u001b[1;32mimport\u001b[0m \u001b[0mBackendApplicationClient\u001b[0m\u001b[1;33m\u001b[0m\u001b[1;33m\u001b[0m\u001b[0m\n\u001b[0m\u001b[0;32m      3\u001b[0m \u001b[1;32mfrom\u001b[0m \u001b[0mrequests_oauthlib\u001b[0m \u001b[1;32mimport\u001b[0m \u001b[0mOAuth2Session\u001b[0m\u001b[1;33m\u001b[0m\u001b[1;33m\u001b[0m\u001b[0m\n\u001b[0;32m      4\u001b[0m \u001b[1;32mimport\u001b[0m \u001b[0mnumpy\u001b[0m \u001b[1;32mas\u001b[0m \u001b[0mnp\u001b[0m\u001b[1;33m\u001b[0m\u001b[1;33m\u001b[0m\u001b[0m\n\u001b[0;32m      5\u001b[0m \u001b[1;32mimport\u001b[0m \u001b[0mpandas\u001b[0m \u001b[1;32mas\u001b[0m \u001b[0mpd\u001b[0m\u001b[1;33m\u001b[0m\u001b[1;33m\u001b[0m\u001b[0m\n",
      "\u001b[1;31mModuleNotFoundError\u001b[0m: No module named 'oauthlib'"
     ]
    }
   ],
   "source": [
    "#Lendo as bibliotecas\n",
    "from oauthlib.oauth2 import BackendApplicationClient\n",
    "from requests_oauthlib import OAuth2Session\n",
    "import numpy as np\n",
    "import pandas as pd\n",
    "import arrow\n",
    "from pandas import json_normalize\n",
    "import json\n",
    "import glob\n",
    "import matplotlib.pyplot as plt"
   ]
  },
  {
   "cell_type": "code",
   "execution_count": 2,
   "metadata": {},
   "outputs": [],
   "source": [
    "# Definindo as funções para uso da API da plataforma\n",
    "def get_data(application,guid,timestamp_init,timestamp_final):\n",
    "    result = []\n",
    "    i = 0\n",
    "    lastlen=10000\n",
    "    while timestamp_init < timestamp_final:\n",
    "        stats = oauth.get(\"https://api.demo.konkerlabs.net/v1/{}/incomingEvents?q=device:{}timestamp:>{}&sort=oldest&limit=10000\",format(application,guid,timestamp_init)).json()['result']\n",
    "        if (len(stats)<2) and (lastlen<10000) :\n",
    "            break\n",
    "        timestamp_init = stats[-1]['timestamp']\n",
    "        result.extent(stats)\n",
    "        lastlen = len(stats)\n",
    "        print(timestamp_init)\n",
    "    return result\n",
    "\n",
    "def list_devices(oauth):\n",
    "    global base_api\n",
    "    devices = oauth.get(\"https://api.demo.konkerlabs.net/v1/{}/devices/?sixe=5000\".format(application)).json()['result']\n",
    "    return devices\n"
   ]
  },
  {
   "cell_type": "code",
   "execution_count": 3,
   "metadata": {},
   "outputs": [],
   "source": [
    "# Inserindo os dados da conta na plataforma\n",
    "base_api = 'https://api.demo.konkerlabs.net'\n",
    "application = 'univesp'\n",
    "\n",
    "def login(username=\"username\",oauth=\"oauth\",password=\"token\"):\n",
    "    \n",
    "    username = BackendApplicationClient(client_id=username)\n",
    "    oauth = OAuth2Session(client=client)\n",
    "    password = token\n",
    "    token = oauth.fetch_token(token_url='{}/v1/oauth/token'.format(base_api),client_id=username,client_secret=password)\n",
    "\n",
    "    print(\"Username: \", username)\n",
    "    print(\"Password: \", password)\n"
   ]
  },
  {
   "cell_type": "code",
   "execution_count": null,
   "metadata": {},
   "outputs": [],
   "source": []
  }
 ],
 "metadata": {
  "kernelspec": {
   "display_name": "Python 3",
   "language": "python",
   "name": "python3"
  },
  "language_info": {
   "codemirror_mode": {
    "name": "ipython",
    "version": 3
   },
   "file_extension": ".py",
   "mimetype": "text/x-python",
   "name": "python",
   "nbconvert_exporter": "python",
   "pygments_lexer": "ipython3",
   "version": "3.8.5"
  }
 },
 "nbformat": 4,
 "nbformat_minor": 4
}
